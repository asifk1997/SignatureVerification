{
 "cells": [
  {
   "cell_type": "markdown",
   "metadata": {},
   "source": [
    "## Here we have deployed the Convolutional Siamese model to verify signatures. You can use this to match your signatures or your friends to match against each other.\n",
    "\n",
    "By - MOHD ASIF KHAN AND ABHISHEK KUMAR"
   ]
  },
  {
   "cell_type": "code",
   "execution_count": 1,
   "metadata": {},
   "outputs": [],
   "source": [
    "import torch\n",
    "import torch.nn as nn\n",
    "import torch.nn.functional as F\n",
    "from fastai.vision.all import *\n",
    "from fastai.vision.widgets import *\n",
    "from torchvision import models\n",
    "from IPython.display import clear_output\n",
    "class SigNet(nn.Module):\n",
    "    '''\n",
    "    Reference Keras: https://github.com/sounakdey/SigNet/blob/master/SigNet_v1.py\n",
    "    '''\n",
    "    def __init__(self):\n",
    "        super().__init__()\n",
    "        self.features = nn.Sequential(\n",
    "            #input size = [155, 220, 1]\n",
    "            nn.Conv2d(1, 96, 11), # size = [145,210]\n",
    "            nn.ReLU(),\n",
    "            nn.LocalResponseNorm(size=5, k=2, alpha=1e-4, beta=0.75),\n",
    "            nn.MaxPool2d(2, stride=2), # size = [72, 105]\n",
    "            nn.Conv2d(96, 256, 5, padding=2, padding_mode='zeros'), # size = [72, 105]\n",
    "            nn.LocalResponseNorm(size=5, k=2, alpha=1e-4, beta=0.75),\n",
    "            nn.MaxPool2d(2, stride=2), # size = [36, 52]\n",
    "            nn.Dropout2d(p=0.3),\n",
    "            nn.Conv2d(256, 384, 3, stride=1, padding=1, padding_mode='zeros'),\n",
    "            nn.Conv2d(384, 256, 3, stride=1, padding=1, padding_mode='zeros'),\n",
    "            nn.MaxPool2d(2, stride=2), # size = [18, 26]\n",
    "            nn.Dropout2d(p=0.3),\n",
    "            nn.Flatten(1, -1), # 18*26*256\n",
    "            nn.Linear(18*26*256, 1024),\n",
    "            nn.Dropout2d(p=0.5),\n",
    "            nn.Linear(1024, 128),\n",
    "        )\n",
    "\n",
    "\n",
    "    def forward(self, x1, x2):\n",
    "        x1 = self.features(x1)\n",
    "        x2 = self.features(x2)\n",
    "        return x1, x2"
   ]
  },
  {
   "cell_type": "code",
   "execution_count": 2,
   "metadata": {},
   "outputs": [],
   "source": [
    "model = SigNet().to('cpu')"
   ]
  },
  {
   "cell_type": "code",
   "execution_count": 3,
   "metadata": {},
   "outputs": [],
   "source": [
    "path = Path()\n",
    "model.load_state_dict(torch.load(path/\"epoch_0_loss_0.449_acc_0.723.pt\",map_location='cpu'))\n",
    "model.eval()\n",
    "clear_output(wait=True)"
   ]
  },
  {
   "cell_type": "code",
   "execution_count": 4,
   "metadata": {},
   "outputs": [
    {
     "name": "stdout",
     "output_type": "stream",
     "text": [
      "Device: cpu\n"
     ]
    }
   ],
   "source": [
    "import os\n",
    " \n",
    "import torch\n",
    "import torch.optim as optim\n",
    "from PIL import ImageOps\n",
    "from torchvision import transforms\n",
    "from PIL import Image\n",
    "import io\n",
    "\n",
    "seed = 2020\n",
    "torch.manual_seed(seed)\n",
    "torch.cuda.manual_seed_all(seed)\n",
    "device = 'cpu'\n",
    "print('Device: {}'.format(device))\n",
    "image_transform = transforms.Compose([\n",
    "        transforms.Resize((155, 220)),\n",
    "        transforms.ToTensor(),\n",
    "        # TODO: add normalize\n",
    "    ])"
   ]
  },
  {
   "cell_type": "code",
   "execution_count": 5,
   "metadata": {},
   "outputs": [],
   "source": [
    "btn_upload = widgets.FileUpload()\n",
    "out_p1 = widgets.Output()\n",
    "btn_upload_2 = widgets.FileUpload()\n",
    "out_p2 = widgets.Output()\n",
    "lbl_pred = widgets.Label()\n",
    "btn_run =widgets.Button(description=\"Verify\")"
   ]
  },
  {
   "cell_type": "code",
   "execution_count": 6,
   "metadata": {},
   "outputs": [],
   "source": [
    "def on_click_verify(change):\n",
    "    img = Image.open(io.BytesIO(btn_upload.data[-1]))\n",
    "    out_p1.clear_output()\n",
    "    with out_p1 : display(img)\n",
    "    img_2 = Image.open(io.BytesIO(btn_upload_2.data[-1]))\n",
    "    out_p2.clear_output()\n",
    "    with out_p2 : display(img_2)\n",
    "    x1 = Image.open(io.BytesIO(btn_upload.data[-1])).convert('L')\n",
    "    x2 = Image.open(io.BytesIO(btn_upload_2.data[-1])).convert('L')\n",
    "    x1 = image_transform(x1)\n",
    "    x2 = image_transform(x2)\n",
    "    x1 = torch.unsqueeze(x1,0)\n",
    "    x2 = torch.unsqueeze(x2,0)\n",
    "#     print(x1.shape,x2.shape)\n",
    "    x1, x2 = model(x1, x2)\n",
    "    distance = torch.pairwise_distance(x1, x2, p=2)\n",
    "    if distance >= 0.1:\n",
    "        pred = \"Forged\"\n",
    "    else:\n",
    "        pred = \"Genuine\"\n",
    "    lbl_pred.value = \"Dissimilarity {:.2f} Predicted is {} \".format(distance.item(),pred)\n",
    "btn_run.on_click(on_click_verify)"
   ]
  },
  {
   "cell_type": "code",
   "execution_count": 7,
   "metadata": {},
   "outputs": [
    {
     "data": {
      "application/vnd.jupyter.widget-view+json": {
       "model_id": "6df8dd0100dc4d8d80fa93dd2eb3a198",
       "version_major": 2,
       "version_minor": 0
      },
      "text/plain": [
       "VBox(children=(Label(value='Select two signatures to verify!'), FileUpload(value={}, description='Upload'), Fi…"
      ]
     },
     "metadata": {},
     "output_type": "display_data"
    }
   ],
   "source": [
    "widgets.VBox([widgets.Label(\"Select two signatures to verify!\"),btn_upload,btn_upload_2,btn_run,out_p1,out_p2,lbl_pred])"
   ]
  },
  {
   "cell_type": "code",
   "execution_count": null,
   "metadata": {},
   "outputs": [],
   "source": []
  }
 ],
 "metadata": {
  "kernelspec": {
   "display_name": "Python 3",
   "language": "python",
   "name": "python3"
  },
  "language_info": {
   "codemirror_mode": {
    "name": "ipython",
    "version": 3
   },
   "file_extension": ".py",
   "mimetype": "text/x-python",
   "name": "python",
   "nbconvert_exporter": "python",
   "pygments_lexer": "ipython3",
   "version": "3.8.5"
  }
 },
 "nbformat": 4,
 "nbformat_minor": 4
}
